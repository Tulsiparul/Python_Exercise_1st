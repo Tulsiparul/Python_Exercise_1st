{
 "cells": [
  {
   "cell_type": "code",
   "execution_count": 1,
   "id": "d7c0248a",
   "metadata": {},
   "outputs": [
    {
     "name": "stdout",
     "output_type": "stream",
     "text": [
      "First NameTulsi\n"
     ]
    }
   ],
   "source": [
    "#### Display the user info as a Hello\n",
    "\n",
    "fname = input(\"First Name\")"
   ]
  },
  {
   "cell_type": "code",
   "execution_count": 2,
   "id": "281097e7",
   "metadata": {},
   "outputs": [
    {
     "name": "stdout",
     "output_type": "stream",
     "text": [
      "Last NamePandey\n"
     ]
    }
   ],
   "source": [
    "lname = input(\"Last Name\")"
   ]
  },
  {
   "cell_type": "code",
   "execution_count": 6,
   "id": "bb8dd5a0",
   "metadata": {},
   "outputs": [
    {
     "name": "stdout",
     "output_type": "stream",
     "text": [
      "Hello Tulsi Pandey\n"
     ]
    }
   ],
   "source": [
    "print(\"Hello\",fname,lname)"
   ]
  },
  {
   "cell_type": "code",
   "execution_count": null,
   "id": "9da78657",
   "metadata": {},
   "outputs": [],
   "source": []
  }
 ],
 "metadata": {
  "kernelspec": {
   "display_name": "Python 3",
   "language": "python",
   "name": "python3"
  },
  "language_info": {
   "codemirror_mode": {
    "name": "ipython",
    "version": 3
   },
   "file_extension": ".py",
   "mimetype": "text/x-python",
   "name": "python",
   "nbconvert_exporter": "python",
   "pygments_lexer": "ipython3",
   "version": "3.8.8"
  }
 },
 "nbformat": 4,
 "nbformat_minor": 5
}
