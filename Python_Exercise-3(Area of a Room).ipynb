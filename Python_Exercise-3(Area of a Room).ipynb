{
 "cells": [
  {
   "cell_type": "code",
   "execution_count": 20,
   "id": "943d1b1f",
   "metadata": {},
   "outputs": [
    {
     "name": "stdout",
     "output_type": "stream",
     "text": [
      "Enter the length of the room in meter : 85\n"
     ]
    }
   ],
   "source": [
    "#### Read the input as a length value from user\n",
    "\n",
    "length = float(input(\"Enter the length of the room in meter : \"))"
   ]
  },
  {
   "cell_type": "code",
   "execution_count": 21,
   "id": "0c36d5b9",
   "metadata": {},
   "outputs": [
    {
     "name": "stdout",
     "output_type": "stream",
     "text": [
      "Enter the width of the room in meter : 92\n"
     ]
    }
   ],
   "source": [
    "#### Read the input as a width value from user\n",
    "\n",
    "width = float(input(\"Enter the width of the room in meter : \"))"
   ]
  },
  {
   "cell_type": "code",
   "execution_count": 22,
   "id": "823b6436",
   "metadata": {},
   "outputs": [],
   "source": [
    "#### Compute the Area of a Room\n",
    "\n",
    "area = length * width "
   ]
  },
  {
   "cell_type": "code",
   "execution_count": 23,
   "id": "a1a42394",
   "metadata": {},
   "outputs": [
    {
     "name": "stdout",
     "output_type": "stream",
     "text": [
      "The area of the room is 7820.0 Square meter \n"
     ]
    }
   ],
   "source": [
    "### Display the result\n",
    "print(\"The area of the room is\", area, \"Square meter \")"
   ]
  },
  {
   "cell_type": "code",
   "execution_count": null,
   "id": "bd515144",
   "metadata": {},
   "outputs": [],
   "source": []
  }
 ],
 "metadata": {
  "kernelspec": {
   "display_name": "Python 3",
   "language": "python",
   "name": "python3"
  },
  "language_info": {
   "codemirror_mode": {
    "name": "ipython",
    "version": 3
   },
   "file_extension": ".py",
   "mimetype": "text/x-python",
   "name": "python",
   "nbconvert_exporter": "python",
   "pygments_lexer": "ipython3",
   "version": "3.8.8"
  }
 },
 "nbformat": 4,
 "nbformat_minor": 5
}
