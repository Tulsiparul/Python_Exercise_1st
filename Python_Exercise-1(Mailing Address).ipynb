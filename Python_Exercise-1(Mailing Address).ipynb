{
 "cells": [
  {
   "cell_type": "code",
   "execution_count": 17,
   "id": "e987b513",
   "metadata": {},
   "outputs": [
    {
     "name": "stdout",
     "output_type": "stream",
     "text": [
      "Name: Tulsi pandey\n",
      "College Name: CMR Technical Campus\n",
      "Address: 99 Hostel,Shivbagh Colony,Ameerpet\n",
      "University Name: JNTUH\n",
      "Father's Name: Omprakash Pandey\n",
      "Mother's Name: Sudha Pandey\n"
     ]
    }
   ],
   "source": [
    "#### Display Complete Mailing Address\n",
    "\n",
    "print(\"Name:\",'Tulsi pandey')\n",
    "print(\"College Name:\",'CMR Technical Campus')\n",
    "print(\"Address:\",'99 Hostel,Shivbagh Colony,Ameerpet')\n",
    "print(\"University Name:\",'JNTUH')\n",
    "print(\"Father's Name:\",'Omprakash Pandey')\n",
    "print(\"Mother's Name:\",'Sudha Pandey')\n",
    "    "
   ]
  },
  {
   "cell_type": "code",
   "execution_count": null,
   "id": "fe2b534e",
   "metadata": {},
   "outputs": [],
   "source": []
  }
 ],
 "metadata": {
  "kernelspec": {
   "display_name": "Python 3",
   "language": "python",
   "name": "python3"
  },
  "language_info": {
   "codemirror_mode": {
    "name": "ipython",
    "version": 3
   },
   "file_extension": ".py",
   "mimetype": "text/x-python",
   "name": "python",
   "nbconvert_exporter": "python",
   "pygments_lexer": "ipython3",
   "version": "3.8.8"
  }
 },
 "nbformat": 4,
 "nbformat_minor": 5
}
