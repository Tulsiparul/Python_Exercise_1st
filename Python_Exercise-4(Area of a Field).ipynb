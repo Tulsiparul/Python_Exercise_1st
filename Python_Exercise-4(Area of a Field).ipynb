{
 "cells": [
  {
   "cell_type": "code",
   "execution_count": 24,
   "id": "a5ddca19",
   "metadata": {},
   "outputs": [],
   "source": [
    "## Given Value There are 43,560 square feet in an acre\n",
    "\n",
    "SQT_PER_ACRE = 43560"
   ]
  },
  {
   "cell_type": "code",
   "execution_count": 25,
   "id": "fcd1b812",
   "metadata": {},
   "outputs": [
    {
     "name": "stdout",
     "output_type": "stream",
     "text": [
      "Enter the length of the Field in meter : 78\n",
      "Enter the width of the Field in meter : 96\n"
     ]
    }
   ],
   "source": [
    "length = float(input(\"Enter the length of the Field in meter : \"))\n",
    "width = float(input(\"Enter the width of the Field in meter : \"))"
   ]
  },
  {
   "cell_type": "code",
   "execution_count": 26,
   "id": "71e4df0b",
   "metadata": {},
   "outputs": [],
   "source": [
    "acres = length * width / SQT_PER_ACRE"
   ]
  },
  {
   "cell_type": "code",
   "execution_count": 27,
   "id": "579ebf82",
   "metadata": {},
   "outputs": [
    {
     "name": "stdout",
     "output_type": "stream",
     "text": [
      "The area of the field is 0.171900826446281 Square meter \n"
     ]
    }
   ],
   "source": [
    "####Display the result\n",
    "\n",
    "print(\"The area of the field is\", acres, \"Square meter \")"
   ]
  },
  {
   "cell_type": "code",
   "execution_count": null,
   "id": "679e7c1a",
   "metadata": {},
   "outputs": [],
   "source": []
  }
 ],
 "metadata": {
  "kernelspec": {
   "display_name": "Python 3",
   "language": "python",
   "name": "python3"
  },
  "language_info": {
   "codemirror_mode": {
    "name": "ipython",
    "version": 3
   },
   "file_extension": ".py",
   "mimetype": "text/x-python",
   "name": "python",
   "nbconvert_exporter": "python",
   "pygments_lexer": "ipython3",
   "version": "3.8.8"
  }
 },
 "nbformat": 4,
 "nbformat_minor": 5
}
